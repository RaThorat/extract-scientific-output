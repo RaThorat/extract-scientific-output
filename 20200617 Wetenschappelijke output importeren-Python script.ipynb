{
 "cells": [
  {
   "cell_type": "markdown",
   "metadata": {},
   "source": [
    " # Importing scientific output, if DOIs are provided"
   ]
  },
  {
   "cell_type": "markdown",
   "metadata": {},
   "source": [
    "This is the code about fetching publication information of researchers, if digital object information (DOIs) is avialable."
   ]
  },
  {
   "cell_type": "markdown",
   "metadata": {},
   "source": [
    "There is a need for automation of the publication information of the researchers. Once this\n",
    "information is available, the information can be automatically linked to the relevant researcher. Furthermore, this information can be used for a visualization for finding conflicts of interest with other researchers."
   ]
  },
  {
   "cell_type": "markdown",
   "metadata": {},
   "source": [
    "A researcher's publication information will be processed via a free (cross-ref) API, provided DOIs of the publications are available. For proof of concept I have DOIs of my own four publications collected in an input excel file. The json format of Cross-ref API has been edited with python scripts. Excel output file is made of list of authors and number of citations."
   ]
  },
  {
   "cell_type": "markdown",
   "metadata": {},
   "source": [
    "Shortcomings The format of output file is not yet as it should be. Two wishes that haven't been fulfilled yet\n",
    "to be:\n",
    "ˆ columns 'family name' and 'given name' side by side and\n",
    "ˆ split year-month column"
   ]
  },
  {
   "cell_type": "code",
   "execution_count": null,
   "metadata": {},
   "outputs": [],
   "source": [
    "#Importing various modules required for analysis\n",
    "#You excel should have a single column of DOI's. The header of the column should be 'DOIs'\n",
    "import os\n",
    "os.getcwd()\n",
    "import tkinter as tk\n",
    "from tkinter import filedialog\n",
    "import pandas as pd\n",
    "#Importing the dois with Tkinter module\n",
    "root= tk.Tk()\n",
    "\n",
    "canvas1 = tk.Canvas(root, width = 300, height = 300, bg = 'lightsteelblue')\n",
    "canvas1.pack()\n",
    "\n",
    "def getExcel ():\n",
    "    global df\n",
    "    \n",
    "    import_file_path = filedialog.askopenfilename()\n",
    "    df = pd.read_excel (import_file_path)\n",
    "    #print (df)\n",
    "    \n",
    "browseButton_Excel = tk.Button(text='Import Excel File', command=getExcel, bg='green', fg='white', font=('helvetica', 12, 'bold'))\n",
    "canvas1.create_window(150, 150, window=browseButton_Excel)\n",
    "\n",
    "root.mainloop()"
   ]
  },
  {
   "cell_type": "code",
   "execution_count": null,
   "metadata": {},
   "outputs": [],
   "source": [
    "# If viewing in jupyter notebook or running first time, then uncomment the next line and run the cell.\n",
    "#!pip install crossrefapi"
   ]
  },
  {
   "cell_type": "code",
   "execution_count": null,
   "metadata": {},
   "outputs": [],
   "source": [
    "#conversion of excel of dois to list format. \n",
    "doi=df['DOIs'].to_list()"
   ]
  },
  {
   "cell_type": "code",
   "execution_count": null,
   "metadata": {},
   "outputs": [],
   "source": [
    "#Let's start by looking briefly at\"works\". The route refers to items identified by a DOI in the index. These can be articles, books, components, etc.\n",
    "from crossref.restful import Works\n",
    "works = Works()"
   ]
  },
  {
   "cell_type": "code",
   "execution_count": null,
   "metadata": {},
   "outputs": [],
   "source": [
    "#extraction of author information\n",
    "def get_author_info():\n",
    "    authors_info=record['author']\n",
    "    for authors in authors_info:\n",
    "        familyname=authors['family']\n",
    "        givenname=authors['given']\n",
    "        familynames.append(familyname)\n",
    "        givennames.append(givenname)"
   ]
  },
  {
   "cell_type": "code",
   "execution_count": null,
   "metadata": {},
   "outputs": [],
   "source": [
    "#extraction of family names and given names\n",
    "familynamess=[]\n",
    "givennamess=[]\n",
    "for i in doi:\n",
    "    record=works.doi(i)\n",
    "    familynames=[]\n",
    "    givennames=[]\n",
    "    get_author_info()\n",
    "    familynamess.append(familynames)\n",
    "    givennamess.append(givennames)\n",
    "df_famm=pd.DataFrame(familynamess)\n",
    "df_given=pd.DataFrame(givennamess)\n"
   ]
  },
  {
   "cell_type": "code",
   "execution_count": null,
   "metadata": {},
   "outputs": [],
   "source": [
    "#joining family and given names dataframes\n",
    "df_author=pd.concat([df_famm,df_given], axis=1)"
   ]
  },
  {
   "cell_type": "code",
   "execution_count": null,
   "metadata": {},
   "outputs": [],
   "source": [
    "#list of authors, and other description\n",
    "title=[]\n",
    "journal=[]\n",
    "\n",
    "volume=[]\n",
    "issue=[]\n",
    "page=[]\n",
    "cit=[]\n",
    "reference=[]\n",
    "# Using for loop \n",
    "for i in doi: \n",
    "    record = works.doi(i)\n",
    "    title.append(record['title'])\n",
    "    journal.append(record['container-title'])\n",
    "    volume.append(record['volume'])\n",
    "    issue.append(record['member'])\n",
    "    page.append(record['page'])\n",
    "    cit.append(record['is-referenced-by-count'])\n",
    "    reference.append(record['references-count'])\n",
    "    "
   ]
  },
  {
   "cell_type": "code",
   "execution_count": null,
   "metadata": {},
   "outputs": [],
   "source": [
    "#extraction of publication dates\n",
    "pub_date=[]\n",
    "for i in doi: \n",
    "    record = works.doi(i)\n",
    "    newrow=record['published-print']\n",
    "    pub_date.append(newrow)\n",
    "df_date= pd.DataFrame(pub_date)\n",
    "df_date.rename(columns={'date-parts': 'Date_list'}, inplace=True)"
   ]
  },
  {
   "cell_type": "code",
   "execution_count": null,
   "metadata": {},
   "outputs": [],
   "source": [
    "Date_list=df_date['Date_list'].tolist()"
   ]
  },
  {
   "cell_type": "code",
   "execution_count": null,
   "metadata": {},
   "outputs": [],
   "source": [
    "Date_list=[str(item) for item in Date_list]"
   ]
  },
  {
   "cell_type": "code",
   "execution_count": null,
   "metadata": {},
   "outputs": [],
   "source": [
    "df_date['year-month']=Date_list"
   ]
  },
  {
   "cell_type": "code",
   "execution_count": null,
   "metadata": {},
   "outputs": [],
   "source": [
    "#delete the dataframe because it it not needed anymore\n",
    "del df_date['Date_list']"
   ]
  },
  {
   "cell_type": "code",
   "execution_count": null,
   "metadata": {},
   "outputs": [],
   "source": [
    "#writing various dataframes for the information\n",
    "df_title=pd.DataFrame(title, columns=['title'])\n",
    "df_journal=pd.DataFrame(journal, columns=['journal'])\n",
    "df_volume=pd.DataFrame(volume, columns=['volume'])\n",
    "df_issue=pd.DataFrame(issue, columns=['issue'])\n",
    "df_page=pd.DataFrame(page, columns=['pages'])\n",
    "df_cit=pd.DataFrame(cit, columns=['citation'])\n",
    "df_ref=pd.DataFrame(reference, columns=['references'])"
   ]
  },
  {
   "cell_type": "code",
   "execution_count": null,
   "metadata": {},
   "outputs": [],
   "source": [
    "#joining all the dataframes with the information\n",
    "df_all=pd.concat([df, df_title, df_author, df_journal, df_date, df_volume,df_issue, df_page, df_cit,df_ref], axis=1)"
   ]
  },
  {
   "cell_type": "code",
   "execution_count": null,
   "metadata": {},
   "outputs": [],
   "source": [
    "#Printing the output\n",
    "#The openpyxl.utils.dataframe.dataframe_to_rows() function provides a simple way to work with Pandas Dataframes:\n",
    "\n",
    "from openpyxl.utils.dataframe import dataframe_to_rows\n",
    "from openpyxl import Workbook\n",
    "\n",
    "\n",
    "wb = Workbook()\n",
    "ws = wb.active\n",
    "#ws = wb.create_sheet(\"Samenvatting\", 0) \n",
    "#ws.title='Trial'\n",
    "\n",
    "for r in dataframe_to_rows(df_all, index=False, header=True):\n",
    "    ws.append(r)\n",
    "\n",
    "    #saving the excel workbook\n",
    "Exportfile_name=input('Give export file name ',)# write the name of the file with extension .xlsx\n",
    "wb.save(Exportfile_name)"
   ]
  },
  {
   "cell_type": "code",
   "execution_count": null,
   "metadata": {},
   "outputs": [],
   "source": []
  }
 ],
 "metadata": {
  "kernelspec": {
   "display_name": "Python 3",
   "language": "python",
   "name": "python3"
  },
  "language_info": {
   "codemirror_mode": {
    "name": "ipython",
    "version": 3
   },
   "file_extension": ".py",
   "mimetype": "text/x-python",
   "name": "python",
   "nbconvert_exporter": "python",
   "pygments_lexer": "ipython3",
   "version": "3.7.6"
  }
 },
 "nbformat": 4,
 "nbformat_minor": 4
}
